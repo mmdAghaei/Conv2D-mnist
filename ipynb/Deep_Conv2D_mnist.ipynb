{
  "cells": [
    {
      "cell_type": "markdown",
      "metadata": {
        "id": "FJEK2ajSleA-"
      },
      "source": [
        "# Import Package"
      ]
    },
    {
      "cell_type": "code",
      "execution_count": 44,
      "metadata": {
        "id": "m3LUxrY4leBB"
      },
      "outputs": [],
      "source": [
        "import tensorflow as tf\n",
        "from tensorflow import keras\n",
        "from keras.layers import Conv2D,Dense,MaxPooling2D,AveragePooling2D,Flatten\n",
        "import numpy as np\n",
        "import matplotlib.pyplot as plt\n",
        "from sklearn.model_selection import train_test_split"
      ]
    },
    {
      "cell_type": "markdown",
      "source": [
        "# Mnits DataSets"
      ],
      "metadata": {
        "id": "uI7-6eEMx6jE"
      }
    },
    {
      "cell_type": "code",
      "source": [
        "mnit = keras.datasets.mnist"
      ],
      "metadata": {
        "id": "IHlRWejtx99Q"
      },
      "execution_count": 2,
      "outputs": []
    },
    {
      "cell_type": "markdown",
      "metadata": {
        "id": "8gx1YCU5leBF"
      },
      "source": [
        "# Split Test and Train"
      ]
    },
    {
      "cell_type": "code",
      "execution_count": 36,
      "metadata": {
        "id": "7fOjMxTPleBG"
      },
      "outputs": [],
      "source": [
        "(x_train,y_train),(x_test,y_test) = mnit.load_data()"
      ]
    },
    {
      "cell_type": "code",
      "source": [
        "index = 99\n",
        "img = x_train[index]\n",
        "print(y_train[index])\n",
        "plt.imshow(img,cmap=\"gray\")"
      ],
      "metadata": {
        "colab": {
          "base_uri": "https://localhost:8080/",
          "height": 465
        },
        "id": "eR379wbfySOF",
        "outputId": "05b37536-d63c-4f3b-e4b2-2e80a5534b4a"
      },
      "execution_count": 17,
      "outputs": [
        {
          "output_type": "stream",
          "name": "stdout",
          "text": [
            "1\n"
          ]
        },
        {
          "output_type": "execute_result",
          "data": {
            "text/plain": [
              "<matplotlib.image.AxesImage at 0x7bdc4a1240d0>"
            ]
          },
          "metadata": {},
          "execution_count": 17
        },
        {
          "output_type": "display_data",
          "data": {
            "text/plain": [
              "<Figure size 640x480 with 1 Axes>"
            ],
            "image/png": "[encoded data removed]"
          },
          "metadata": {}
        }
      ]
    },
    {
      "cell_type": "markdown",
      "source": [
        "# Normalize"
      ],
      "metadata": {
        "id": "12ddkl23zvvc"
      }
    },
    {
      "cell_type": "code",
      "source": [
        "x_train = x_train.reshape((-1,28,28,1)).astype(\"float32\")\n",
        "x_test = x_test.reshape((-1,28,28,1)).astype(\"float32\")"
      ],
      "metadata": {
        "colab": {
          "base_uri": "https://localhost:8080/"
        },
        "id": "eLWeia8Szyal",
        "outputId": "84ea4ff6-a666-40cb-e5c4-8b25f925b71f"
      },
      "execution_count": 42,
      "outputs": [
        {
          "output_type": "execute_result",
          "data": {
            "text/plain": [
              "(10000, 28, 28, 1)"
            ]
          },
          "metadata": {},
          "execution_count": 42
        }
      ]
    },
    {
      "cell_type": "markdown",
      "metadata": {
        "id": "a37518p2leBG"
      },
      "source": [
        "# 1) Model"
      ]
    },
    {
      "cell_type": "code",
      "execution_count": 46,
      "metadata": {
        "id": "UYCstjiUleBG"
      },
      "outputs": [],
      "source": [
        "model = keras.Sequential()\n",
        "model.add(Conv2D(32,kernel_size=(3,3),padding=\"valid\",strides=(1,1),activation=\"relu\",input_shape=(28,28,1)))\n",
        "model.add(MaxPooling2D(pool_size=(2,2)))\n",
        "model.add(Conv2D(64,kernel_size=(3,3),padding=\"valid\",strides=(1,1),activation=\"relu\"))\n",
        "model.add(AveragePooling2D(pool_size=(2,2)))\n",
        "model.add(Conv2D(128,kernel_size=(3,3),padding=\"valid\",strides=(1,1),activation=\"relu\"))\n",
        "model.add(MaxPooling2D(pool_size=(2,2)))\n",
        "model.add(Flatten())\n",
        "model.add(Dense(units=120,activation=\"relu\"))\n",
        "model.add(Dense(units=10,activation='softmax'))"
      ]
    },
    {
      "cell_type": "markdown",
      "metadata": {
        "id": "UjnBxFBZleBH"
      },
      "source": [
        "# Compile"
      ]
    },
    {
      "cell_type": "code",
      "execution_count": 47,
      "metadata": {
        "id": "DIF7jGTWleBH"
      },
      "outputs": [],
      "source": [
        "model.compile(optimizer='adam',loss=tf.losses.sparse_categorical_crossentropy,metrics=['accuracy'])"
      ]
    },
    {
      "cell_type": "markdown",
      "metadata": {
        "id": "Mtit6GEWleBI"
      },
      "source": [
        "# Summart"
      ]
    },
    {
      "cell_type": "code",
      "execution_count": 48,
      "metadata": {
        "colab": {
          "base_uri": "https://localhost:8080/"
        },
        "id": "hbASof_VleBI",
        "outputId": "9251cfa4-95a3-4546-95c1-0b294690dcb0"
      },
      "outputs": [
        {
          "output_type": "stream",
          "name": "stdout",
          "text": [
            "Model: \"sequential_6\"\n",
            "_________________________________________________________________\n",
            " Layer (type)                Output Shape              Param #   \n",
            "=================================================================\n",
            " conv2d_5 (Conv2D)           (None, 26, 26, 32)        320       \n",
            "                                                                 \n",
            " max_pooling2d_2 (MaxPoolin  (None, 13, 13, 32)        0         \n",
            " g2D)                                                            \n",
            "                                                                 \n",
            " conv2d_6 (Conv2D)           (None, 11, 11, 64)        18496     \n",
            "                                                                 \n",
            " average_pooling2d_1 (Avera  (None, 5, 5, 64)          0         \n",
            " gePooling2D)                                                    \n",
            "                                                                 \n",
            " conv2d_7 (Conv2D)           (None, 3, 3, 128)         73856     \n",
            "                                                                 \n",
            " max_pooling2d_3 (MaxPoolin  (None, 1, 1, 128)         0         \n",
            " g2D)                                                            \n",
            "                                                                 \n",
            " flatten_2 (Flatten)         (None, 128)               0         \n",
            "                                                                 \n",
            " dense_8 (Dense)             (None, 120)               15480     \n",
            "                                                                 \n",
            " dense_9 (Dense)             (None, 10)                1210      \n",
            "                                                                 \n",
            "=================================================================\n",
            "Total params: 109362 (427.20 KB)\n",
            "Trainable params: 109362 (427.20 KB)\n",
            "Non-trainable params: 0 (0.00 Byte)\n",
            "_________________________________________________________________\n"
          ]
        }
      ],
      "source": [
        "model.summary()"
      ]
    },
    {
      "cell_type": "markdown",
      "metadata": {
        "id": "8tUIMOBIleBJ"
      },
      "source": [
        "# Train Model"
      ]
    },
    {
      "cell_type": "code",
      "execution_count": 49,
      "metadata": {
        "colab": {
          "base_uri": "https://localhost:8080/"
        },
        "id": "5IqKxBrLleBJ",
        "outputId": "4efe1c87-7463-4189-90d0-29ec81224342"
      },
      "outputs": [
        {
          "output_type": "stream",
          "name": "stdout",
          "text": [
            "Epoch 1/100\n",
            "228/228 [==============================] - 7s 13ms/step - loss: 0.4905 - accuracy: 0.8897 - val_loss: 0.1006 - val_accuracy: 0.9668\n",
            "Epoch 2/100\n",
            "228/228 [==============================] - 2s 8ms/step - loss: 0.0912 - accuracy: 0.9724 - val_loss: 0.0889 - val_accuracy: 0.9718\n",
            "Epoch 3/100\n",
            "228/228 [==============================] - 2s 7ms/step - loss: 0.0637 - accuracy: 0.9803 - val_loss: 0.0711 - val_accuracy: 0.9783\n",
            "Epoch 4/100\n",
            "228/228 [==============================] - 2s 7ms/step - loss: 0.0511 - accuracy: 0.9838 - val_loss: 0.0577 - val_accuracy: 0.9820\n",
            "Epoch 5/100\n",
            "228/228 [==============================] - 2s 7ms/step - loss: 0.0410 - accuracy: 0.9869 - val_loss: 0.0569 - val_accuracy: 0.9832\n",
            "Epoch 6/100\n",
            "228/228 [==============================] - 2s 7ms/step - loss: 0.0338 - accuracy: 0.9895 - val_loss: 0.0594 - val_accuracy: 0.9831\n",
            "Epoch 7/100\n",
            "228/228 [==============================] - 2s 7ms/step - loss: 0.0302 - accuracy: 0.9903 - val_loss: 0.0496 - val_accuracy: 0.9856\n",
            "Epoch 8/100\n",
            "228/228 [==============================] - 3s 15ms/step - loss: 0.0246 - accuracy: 0.9919 - val_loss: 0.0528 - val_accuracy: 0.9859\n",
            "Epoch 9/100\n",
            "228/228 [==============================] - 2s 8ms/step - loss: 0.0201 - accuracy: 0.9931 - val_loss: 0.0481 - val_accuracy: 0.9854\n",
            "Epoch 10/100\n",
            "228/228 [==============================] - 2s 7ms/step - loss: 0.0193 - accuracy: 0.9937 - val_loss: 0.0501 - val_accuracy: 0.9853\n",
            "Epoch 11/100\n",
            "228/228 [==============================] - 2s 7ms/step - loss: 0.0175 - accuracy: 0.9939 - val_loss: 0.0624 - val_accuracy: 0.9843\n",
            "Epoch 12/100\n",
            "228/228 [==============================] - 2s 7ms/step - loss: 0.0190 - accuracy: 0.9936 - val_loss: 0.0570 - val_accuracy: 0.9854\n",
            "Epoch 13/100\n",
            "228/228 [==============================] - 2s 11ms/step - loss: 0.0140 - accuracy: 0.9955 - val_loss: 0.0476 - val_accuracy: 0.9867\n",
            "Epoch 14/100\n",
            "228/228 [==============================] - 2s 9ms/step - loss: 0.0158 - accuracy: 0.9945 - val_loss: 0.0572 - val_accuracy: 0.9863\n",
            "Epoch 15/100\n",
            "228/228 [==============================] - 2s 9ms/step - loss: 0.0132 - accuracy: 0.9956 - val_loss: 0.0588 - val_accuracy: 0.9843\n",
            "Epoch 16/100\n",
            "228/228 [==============================] - 2s 8ms/step - loss: 0.0149 - accuracy: 0.9948 - val_loss: 0.0617 - val_accuracy: 0.9859\n",
            "Epoch 17/100\n",
            "228/228 [==============================] - 2s 7ms/step - loss: 0.0106 - accuracy: 0.9965 - val_loss: 0.0621 - val_accuracy: 0.9853\n",
            "Epoch 18/100\n",
            "228/228 [==============================] - 2s 7ms/step - loss: 0.0120 - accuracy: 0.9961 - val_loss: 0.0706 - val_accuracy: 0.9852\n",
            "Epoch 19/100\n",
            "228/228 [==============================] - 2s 7ms/step - loss: 0.0137 - accuracy: 0.9955 - val_loss: 0.0633 - val_accuracy: 0.9861\n",
            "Epoch 20/100\n",
            "228/228 [==============================] - 2s 7ms/step - loss: 0.0100 - accuracy: 0.9968 - val_loss: 0.0696 - val_accuracy: 0.9848\n",
            "Epoch 21/100\n",
            "228/228 [==============================] - 2s 7ms/step - loss: 0.0100 - accuracy: 0.9967 - val_loss: 0.0601 - val_accuracy: 0.9879\n",
            "Epoch 22/100\n",
            "228/228 [==============================] - 2s 8ms/step - loss: 0.0112 - accuracy: 0.9962 - val_loss: 0.0630 - val_accuracy: 0.9869\n",
            "Epoch 23/100\n",
            "228/228 [==============================] - 2s 9ms/step - loss: 0.0080 - accuracy: 0.9971 - val_loss: 0.0547 - val_accuracy: 0.9882\n",
            "Epoch 24/100\n",
            "228/228 [==============================] - 2s 7ms/step - loss: 0.0126 - accuracy: 0.9958 - val_loss: 0.0632 - val_accuracy: 0.9854\n",
            "Epoch 25/100\n",
            "228/228 [==============================] - 2s 7ms/step - loss: 0.0116 - accuracy: 0.9965 - val_loss: 0.0704 - val_accuracy: 0.9866\n",
            "Epoch 26/100\n",
            "228/228 [==============================] - 2s 7ms/step - loss: 0.0061 - accuracy: 0.9981 - val_loss: 0.0694 - val_accuracy: 0.9878\n",
            "Epoch 27/100\n",
            "228/228 [==============================] - 2s 7ms/step - loss: 0.0080 - accuracy: 0.9973 - val_loss: 0.0770 - val_accuracy: 0.9857\n",
            "Epoch 28/100\n",
            "228/228 [==============================] - 2s 7ms/step - loss: 0.0112 - accuracy: 0.9964 - val_loss: 0.0607 - val_accuracy: 0.9870\n",
            "Epoch 29/100\n",
            "228/228 [==============================] - 2s 7ms/step - loss: 0.0063 - accuracy: 0.9979 - val_loss: 0.0727 - val_accuracy: 0.9869\n",
            "Epoch 30/100\n",
            "228/228 [==============================] - 2s 9ms/step - loss: 0.0042 - accuracy: 0.9985 - val_loss: 0.0747 - val_accuracy: 0.9869\n",
            "Epoch 31/100\n",
            "228/228 [==============================] - 2s 8ms/step - loss: 0.0076 - accuracy: 0.9977 - val_loss: 0.0766 - val_accuracy: 0.9857\n",
            "Epoch 32/100\n",
            "228/228 [==============================] - 2s 7ms/step - loss: 0.0082 - accuracy: 0.9974 - val_loss: 0.0696 - val_accuracy: 0.9876\n",
            "Epoch 33/100\n",
            "228/228 [==============================] - 2s 7ms/step - loss: 0.0079 - accuracy: 0.9973 - val_loss: 0.0818 - val_accuracy: 0.9857\n",
            "Epoch 34/100\n",
            "228/228 [==============================] - 2s 7ms/step - loss: 0.0080 - accuracy: 0.9971 - val_loss: 0.0711 - val_accuracy: 0.9874\n",
            "Epoch 35/100\n",
            "228/228 [==============================] - 2s 7ms/step - loss: 0.0085 - accuracy: 0.9973 - val_loss: 0.1030 - val_accuracy: 0.9828\n",
            "Epoch 36/100\n",
            "228/228 [==============================] - 2s 7ms/step - loss: 0.0141 - accuracy: 0.9960 - val_loss: 0.0674 - val_accuracy: 0.9881\n",
            "Epoch 37/100\n",
            "228/228 [==============================] - 2s 8ms/step - loss: 0.0039 - accuracy: 0.9987 - val_loss: 0.0735 - val_accuracy: 0.9878\n",
            "Epoch 38/100\n",
            "228/228 [==============================] - 2s 8ms/step - loss: 0.0019 - accuracy: 0.9994 - val_loss: 0.0885 - val_accuracy: 0.9848\n",
            "Epoch 39/100\n",
            "228/228 [==============================] - 2s 8ms/step - loss: 0.0056 - accuracy: 0.9980 - val_loss: 0.0783 - val_accuracy: 0.9869\n",
            "Epoch 40/100\n",
            "228/228 [==============================] - 2s 7ms/step - loss: 0.0090 - accuracy: 0.9970 - val_loss: 0.0771 - val_accuracy: 0.9876\n",
            "Epoch 41/100\n",
            "228/228 [==============================] - 2s 7ms/step - loss: 0.0058 - accuracy: 0.9981 - val_loss: 0.0909 - val_accuracy: 0.9855\n",
            "Epoch 42/100\n",
            "228/228 [==============================] - 2s 7ms/step - loss: 0.0056 - accuracy: 0.9982 - val_loss: 0.1034 - val_accuracy: 0.9834\n",
            "Epoch 43/100\n",
            "228/228 [==============================] - 2s 7ms/step - loss: 0.0100 - accuracy: 0.9967 - val_loss: 0.0827 - val_accuracy: 0.9872\n",
            "Epoch 44/100\n",
            "228/228 [==============================] - 2s 7ms/step - loss: 0.0056 - accuracy: 0.9983 - val_loss: 0.0898 - val_accuracy: 0.9862\n",
            "Epoch 45/100\n",
            "228/228 [==============================] - 2s 8ms/step - loss: 0.0070 - accuracy: 0.9977 - val_loss: 0.0892 - val_accuracy: 0.9861\n",
            "Epoch 46/100\n",
            "228/228 [==============================] - 3s 11ms/step - loss: 0.0045 - accuracy: 0.9986 - val_loss: 0.0891 - val_accuracy: 0.9858\n",
            "Epoch 47/100\n",
            "228/228 [==============================] - 2s 8ms/step - loss: 0.0038 - accuracy: 0.9988 - val_loss: 0.0764 - val_accuracy: 0.9891\n",
            "Epoch 48/100\n",
            "228/228 [==============================] - 2s 7ms/step - loss: 0.0055 - accuracy: 0.9981 - val_loss: 0.0716 - val_accuracy: 0.9878\n",
            "Epoch 49/100\n",
            "228/228 [==============================] - 2s 8ms/step - loss: 0.0050 - accuracy: 0.9983 - val_loss: 0.1212 - val_accuracy: 0.9833\n",
            "Epoch 50/100\n",
            "228/228 [==============================] - 3s 12ms/step - loss: 0.0059 - accuracy: 0.9981 - val_loss: 0.0962 - val_accuracy: 0.9858\n",
            "Epoch 51/100\n",
            "228/228 [==============================] - 2s 9ms/step - loss: 0.0080 - accuracy: 0.9976 - val_loss: 0.0974 - val_accuracy: 0.9855\n",
            "Epoch 52/100\n",
            "228/228 [==============================] - 3s 11ms/step - loss: 0.0064 - accuracy: 0.9984 - val_loss: 0.0851 - val_accuracy: 0.9870\n",
            "Epoch 53/100\n",
            "228/228 [==============================] - 2s 10ms/step - loss: 0.0032 - accuracy: 0.9990 - val_loss: 0.0923 - val_accuracy: 0.9872\n",
            "Epoch 54/100\n",
            "228/228 [==============================] - 2s 9ms/step - loss: 0.0033 - accuracy: 0.9990 - val_loss: 0.0875 - val_accuracy: 0.9883\n",
            "Epoch 55/100\n",
            "228/228 [==============================] - 2s 8ms/step - loss: 0.0047 - accuracy: 0.9985 - val_loss: 0.0963 - val_accuracy: 0.9849\n",
            "Epoch 56/100\n",
            "228/228 [==============================] - 2s 10ms/step - loss: 0.0089 - accuracy: 0.9972 - val_loss: 0.0723 - val_accuracy: 0.9882\n",
            "Epoch 57/100\n",
            "228/228 [==============================] - 2s 8ms/step - loss: 0.0023 - accuracy: 0.9992 - val_loss: 0.0796 - val_accuracy: 0.9886\n",
            "Epoch 58/100\n",
            "228/228 [==============================] - 2s 8ms/step - loss: 0.0017 - accuracy: 0.9994 - val_loss: 0.0860 - val_accuracy: 0.9884\n",
            "Epoch 59/100\n",
            "228/228 [==============================] - 2s 9ms/step - loss: 0.0017 - accuracy: 0.9994 - val_loss: 0.0986 - val_accuracy: 0.9864\n",
            "Epoch 60/100\n",
            "228/228 [==============================] - 2s 7ms/step - loss: 0.0071 - accuracy: 0.9982 - val_loss: 0.0900 - val_accuracy: 0.9867\n",
            "Epoch 61/100\n",
            "228/228 [==============================] - 2s 7ms/step - loss: 0.0059 - accuracy: 0.9981 - val_loss: 0.0817 - val_accuracy: 0.9883\n",
            "Epoch 62/100\n",
            "228/228 [==============================] - 2s 7ms/step - loss: 0.0042 - accuracy: 0.9986 - val_loss: 0.1011 - val_accuracy: 0.9862\n",
            "Epoch 63/100\n",
            "228/228 [==============================] - 2s 7ms/step - loss: 0.0027 - accuracy: 0.9992 - val_loss: 0.0771 - val_accuracy: 0.9895\n",
            "Epoch 64/100\n",
            "228/228 [==============================] - 2s 7ms/step - loss: 0.0029 - accuracy: 0.9992 - val_loss: 0.0866 - val_accuracy: 0.9886\n",
            "Epoch 65/100\n",
            "228/228 [==============================] - 2s 7ms/step - loss: 0.0087 - accuracy: 0.9976 - val_loss: 0.1004 - val_accuracy: 0.9858\n",
            "Epoch 66/100\n",
            "228/228 [==============================] - 2s 8ms/step - loss: 0.0074 - accuracy: 0.9979 - val_loss: 0.0997 - val_accuracy: 0.9861\n",
            "Epoch 67/100\n",
            "228/228 [==============================] - 2s 8ms/step - loss: 0.0036 - accuracy: 0.9989 - val_loss: 0.0876 - val_accuracy: 0.9882\n",
            "Epoch 68/100\n",
            "228/228 [==============================] - 2s 7ms/step - loss: 0.0020 - accuracy: 0.9993 - val_loss: 0.0961 - val_accuracy: 0.9888\n",
            "Epoch 69/100\n",
            "228/228 [==============================] - 2s 7ms/step - loss: 0.0021 - accuracy: 0.9994 - val_loss: 0.0817 - val_accuracy: 0.9889\n",
            "Epoch 70/100\n",
            "228/228 [==============================] - 2s 7ms/step - loss: 0.0032 - accuracy: 0.9991 - val_loss: 0.0962 - val_accuracy: 0.9881\n",
            "Epoch 71/100\n",
            "228/228 [==============================] - 2s 7ms/step - loss: 0.0066 - accuracy: 0.9983 - val_loss: 0.1109 - val_accuracy: 0.9868\n",
            "Epoch 72/100\n",
            "228/228 [==============================] - 2s 7ms/step - loss: 0.0046 - accuracy: 0.9984 - val_loss: 0.0999 - val_accuracy: 0.9872\n",
            "Epoch 73/100\n",
            "228/228 [==============================] - 2s 7ms/step - loss: 7.7779e-04 - accuracy: 0.9997 - val_loss: 0.0919 - val_accuracy: 0.9891\n",
            "Epoch 74/100\n",
            "228/228 [==============================] - 2s 9ms/step - loss: 3.9952e-04 - accuracy: 0.9998 - val_loss: 0.0987 - val_accuracy: 0.9887\n",
            "Epoch 75/100\n",
            "228/228 [==============================] - 2s 8ms/step - loss: 0.0010 - accuracy: 0.9997 - val_loss: 0.1279 - val_accuracy: 0.9866\n",
            "Epoch 76/100\n",
            "228/228 [==============================] - 2s 7ms/step - loss: 0.0105 - accuracy: 0.9975 - val_loss: 0.0974 - val_accuracy: 0.9881\n",
            "Epoch 77/100\n",
            "228/228 [==============================] - 2s 7ms/step - loss: 0.0104 - accuracy: 0.9974 - val_loss: 0.0938 - val_accuracy: 0.9866\n",
            "Epoch 78/100\n",
            "228/228 [==============================] - 2s 7ms/step - loss: 0.0016 - accuracy: 0.9995 - val_loss: 0.0897 - val_accuracy: 0.9873\n",
            "Epoch 79/100\n",
            "228/228 [==============================] - 2s 7ms/step - loss: 5.7078e-04 - accuracy: 0.9998 - val_loss: 0.1099 - val_accuracy: 0.9867\n",
            "Epoch 80/100\n",
            "228/228 [==============================] - 2s 7ms/step - loss: 8.6121e-04 - accuracy: 0.9998 - val_loss: 0.0920 - val_accuracy: 0.9875\n",
            "Epoch 81/100\n",
            "228/228 [==============================] - 2s 8ms/step - loss: 8.2621e-04 - accuracy: 0.9998 - val_loss: 0.0915 - val_accuracy: 0.9880\n",
            "Epoch 82/100\n",
            "228/228 [==============================] - 2s 8ms/step - loss: 0.0053 - accuracy: 0.9985 - val_loss: 0.0921 - val_accuracy: 0.9873\n",
            "Epoch 83/100\n",
            "228/228 [==============================] - 2s 8ms/step - loss: 0.0066 - accuracy: 0.9980 - val_loss: 0.0863 - val_accuracy: 0.9879\n",
            "Epoch 84/100\n",
            "228/228 [==============================] - 2s 7ms/step - loss: 0.0053 - accuracy: 0.9984 - val_loss: 0.1132 - val_accuracy: 0.9880\n",
            "Epoch 85/100\n",
            "228/228 [==============================] - 2s 7ms/step - loss: 0.0051 - accuracy: 0.9986 - val_loss: 0.1212 - val_accuracy: 0.9868\n",
            "Epoch 86/100\n",
            "228/228 [==============================] - 2s 7ms/step - loss: 0.0049 - accuracy: 0.9986 - val_loss: 0.0972 - val_accuracy: 0.9869\n",
            "Epoch 87/100\n",
            "228/228 [==============================] - 2s 7ms/step - loss: 0.0014 - accuracy: 0.9995 - val_loss: 0.1036 - val_accuracy: 0.9879\n",
            "Epoch 88/100\n",
            "228/228 [==============================] - 2s 7ms/step - loss: 0.0024 - accuracy: 0.9993 - val_loss: 0.1151 - val_accuracy: 0.9868\n",
            "Epoch 89/100\n",
            "228/228 [==============================] - 2s 8ms/step - loss: 0.0044 - accuracy: 0.9989 - val_loss: 0.1054 - val_accuracy: 0.9873\n",
            "Epoch 90/100\n",
            "228/228 [==============================] - 2s 9ms/step - loss: 0.0088 - accuracy: 0.9978 - val_loss: 0.1100 - val_accuracy: 0.9872\n",
            "Epoch 91/100\n",
            "228/228 [==============================] - 2s 8ms/step - loss: 0.0023 - accuracy: 0.9994 - val_loss: 0.1135 - val_accuracy: 0.9863\n",
            "Epoch 92/100\n",
            "228/228 [==============================] - 2s 7ms/step - loss: 0.0011 - accuracy: 0.9998 - val_loss: 0.1074 - val_accuracy: 0.9877\n",
            "Epoch 93/100\n",
            "228/228 [==============================] - 2s 7ms/step - loss: 2.9876e-05 - accuracy: 1.0000 - val_loss: 0.1053 - val_accuracy: 0.9881\n",
            "Epoch 94/100\n",
            "228/228 [==============================] - 2s 7ms/step - loss: 7.6247e-06 - accuracy: 1.0000 - val_loss: 0.1054 - val_accuracy: 0.9882\n",
            "Epoch 95/100\n",
            "228/228 [==============================] - 2s 7ms/step - loss: 5.4713e-06 - accuracy: 1.0000 - val_loss: 0.1054 - val_accuracy: 0.9882\n",
            "Epoch 96/100\n",
            "228/228 [==============================] - 2s 7ms/step - loss: 4.5017e-06 - accuracy: 1.0000 - val_loss: 0.1054 - val_accuracy: 0.9883\n",
            "Epoch 97/100\n",
            "228/228 [==============================] - 2s 9ms/step - loss: 3.8280e-06 - accuracy: 1.0000 - val_loss: 0.1055 - val_accuracy: 0.9883\n",
            "Epoch 98/100\n",
            "228/228 [==============================] - 2s 9ms/step - loss: 3.2986e-06 - accuracy: 1.0000 - val_loss: 0.1056 - val_accuracy: 0.9881\n",
            "Epoch 99/100\n",
            "228/228 [==============================] - 2s 7ms/step - loss: 2.8782e-06 - accuracy: 1.0000 - val_loss: 0.1057 - val_accuracy: 0.9881\n",
            "Epoch 100/100\n",
            "228/228 [==============================] - 2s 7ms/step - loss: 2.5310e-06 - accuracy: 1.0000 - val_loss: 0.1058 - val_accuracy: 0.9881\n"
          ]
        }
      ],
      "source": [
        "hist = model.fit(x_train,y_train,epochs=100,batch_size=264,validation_data=(x_test,y_test))"
      ]
    },
    {
      "cell_type": "markdown",
      "source": [
        "# Save"
      ],
      "metadata": {
        "id": "W4BfjbaonA9q"
      }
    },
    {
      "cell_type": "code",
      "source": [
        "model.save(\"mnits_Conv2D.h5\")"
      ],
      "metadata": {
        "id": "hl_XR2c6m64L"
      },
      "execution_count": 51,
      "outputs": []
    },
    {
      "cell_type": "markdown",
      "source": [
        "# Load Model"
      ],
      "metadata": {
        "id": "CTUoKbWd30vy"
      }
    },
    {
      "cell_type": "code",
      "source": [
        "model_load = keras.models.load_model(\"mnits_Conv2D.h5\")"
      ],
      "metadata": {
        "id": "8yOf0IYg30XS"
      },
      "execution_count": 13,
      "outputs": []
    },
    {
      "cell_type": "markdown",
      "source": [
        "# History"
      ],
      "metadata": {
        "id": "2UnY2K_N4Dpo"
      }
    },
    {
      "cell_type": "code",
      "source": [
        "acc = hist.history['accuracy']\n",
        "acc_val = hist.history['val_accuracy']\n",
        "loss = hist.history['loss']\n",
        "loss_val = hist.history['val_loss']\n"
      ],
      "metadata": {
        "id": "wwoR5KUf4Fce"
      },
      "execution_count": 52,
      "outputs": []
    },
    {
      "cell_type": "markdown",
      "source": [
        "# accuracy"
      ],
      "metadata": {
        "id": "zcHKR0oP68ih"
      }
    },
    {
      "cell_type": "code",
      "source": [
        "accuracy = model.evaluate(x_test,y_test)\n",
        "accuracy"
      ],
      "metadata": {
        "colab": {
          "base_uri": "https://localhost:8080/"
        },
        "id": "kuzSO2fn6_CC",
        "outputId": "0143cac7-5bc1-4f17-dc83-68350ee403a2"
      },
      "execution_count": 53,
      "outputs": [
        {
          "output_type": "stream",
          "name": "stdout",
          "text": [
            "313/313 [==============================] - 1s 3ms/step - loss: 0.1058 - accuracy: 0.9881\n"
          ]
        },
        {
          "output_type": "execute_result",
          "data": {
            "text/plain": [
              "[0.10578881949186325, 0.988099992275238]"
            ]
          },
          "metadata": {},
          "execution_count": 53
        }
      ]
    },
    {
      "cell_type": "markdown",
      "source": [
        "# Plot"
      ],
      "metadata": {
        "id": "J2FtrYU-nT2O"
      }
    },
    {
      "cell_type": "code",
      "source": [
        "plt.plot(acc,color=\"red\",label=\"accuracy\")\n",
        "plt.plot(acc_val,color=\"green\",label=\"validation accuracy\")\n",
        "plt.plot(loss,color=\"blue\",label=\"loss\")\n",
        "plt.plot(loss_val,color=\"orange\",label=\"validation loss\")\n",
        "plt.legend()\n",
        "plt.show()"
      ],
      "metadata": {
        "colab": {
          "base_uri": "https://localhost:8080/",
          "height": 430
        },
        "id": "TQ_r5fU9nRZ6",
        "outputId": "90d7f520-45ba-4029-e906-31e6a8d61616"
      },
      "execution_count": 54,
      "outputs": [
        {
          "output_type": "display_data",
          "data": {
            "text/plain": [
              "<Figure size 640x480 with 1 Axes>"
            ],
            "image/png": "[encoded data removed]"
          },
          "metadata": {}
        }
      ]
    }
  ],
  "metadata": {
    "kernelspec": {
      "display_name": "Python 3",
      "name": "python3"
    },
    "language_info": {
      "codemirror_mode": {
        "name": "ipython",
        "version": 3
      },
      "file_extension": ".py",
      "mimetype": "text/x-python",
      "name": "python",
      "nbconvert_exporter": "python",
      "pygments_lexer": "ipython3",
      "version": "3.12.1"
    },
    "colab": {
      "provenance": [],
      "gpuType": "T4"
    },
    "accelerator": "GPU"
  },
  "nbformat": 4,
  "nbformat_minor": 0
}